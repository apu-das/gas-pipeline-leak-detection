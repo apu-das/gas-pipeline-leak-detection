{
 "cells": [
  {
   "cell_type": "code",
   "execution_count": null,
   "id": "7af85119",
   "metadata": {},
   "outputs": [],
   "source": []
  },
  {
   "cell_type": "code",
   "execution_count": null,
   "id": "c5051037",
   "metadata": {},
   "outputs": [],
   "source": []
  },
  {
   "cell_type": "code",
   "execution_count": null,
   "id": "d3d1bc79",
   "metadata": {},
   "outputs": [],
   "source": []
  },
  {
   "cell_type": "code",
   "execution_count": null,
   "id": "ac35deac",
   "metadata": {},
   "outputs": [],
   "source": []
  },
  {
   "cell_type": "code",
   "execution_count": 12,
   "id": "d3754f7a",
   "metadata": {},
   "outputs": [
    {
     "name": "stdout",
     "output_type": "stream",
     "text": [
      "                     Timestamp   Pressure  Temperature     Frequency  \\\n",
      "0   2024-03-19 23:57:09.580497  22.220362    17.555440  18095.837476   \n",
      "1   2024-03-19 23:58:09.580497  38.178473    16.504456  17337.665986   \n",
      "2   2024-03-19 23:59:09.580497  40.636551    15.167562  12844.363662   \n",
      "3   2024-03-20 00:00:09.580497  32.108980     7.294893  12493.664206   \n",
      "4   2024-03-20 00:01:09.580497  37.839198    17.073648  18637.472310   \n",
      "..                         ...        ...          ...           ...   \n",
      "995 2024-03-20 16:32:09.580497  30.749247     5.733433  15000.865687   \n",
      "996 2024-03-20 16:33:09.580497  26.673618    24.212226  15650.746111   \n",
      "997 2024-03-20 16:34:09.580497  23.105068    22.953588  13585.405015   \n",
      "998 2024-03-20 16:35:09.580497  33.451225    10.192568  18624.356898   \n",
      "999 2024-03-20 16:36:09.580497  30.126647    11.847584  15976.435587   \n",
      "\n",
      "     Amplitude   Latitude  Longitude  Leak Condition  \n",
      "0     1.002457  23.736042  90.520816             1.0  \n",
      "1     1.022310  23.643534  90.898804             0.0  \n",
      "2     1.016013  23.045692  90.829612             0.0  \n",
      "3     1.117639  23.429280  91.554377             1.0  \n",
      "4     0.994379  23.367979  90.680205             0.0  \n",
      "..         ...        ...        ...             ...  \n",
      "995   0.858849  22.928801  91.231465             0.0  \n",
      "996   0.980683  22.444009  90.816387             0.0  \n",
      "997   0.854623  23.606563  91.081078             0.0  \n",
      "998   0.810805  23.189615  90.452247             0.0  \n",
      "999   0.893646  23.112269  90.958735             0.0  \n",
      "\n",
      "[1000 rows x 8 columns]\n"
     ]
    }
   ],
   "source": [
    "#import necessary libraries\n",
    "import pandas as pd\n",
    "import numpy as np\n",
    "import random\n",
    "from datetime import datetime, timedelta\n",
    "\n",
    "# Function to generate timestamps starting from current time and collecting data every minute\n",
    "def generate_timestamps(start_time, n):\n",
    "    timestamps = []\n",
    "    for i in range(n):\n",
    "        timestamps.append(start_time + timedelta(minutes=i))\n",
    "    return timestamps\n",
    "\n",
    "# Function to generate random latitude and longitude within a specific range\n",
    "def generate_coordinates(n):\n",
    "    min_lat, max_lat = 22.341900, 23.777176    #Latitude of Ctg is 22.341900 and Dhaka is 23.777176\n",
    "    min_lon, max_lon = 90.399452, 91.815536    #Longitude of Dhaka is 90.399452 and Ctg is 91.815536\n",
    "    return [(random.uniform(min_lat, max_lat), random.uniform(min_lon, max_lon)) for i in range(n)]\n",
    "\n",
    "# Generate random sensor data\n",
    "start_time = datetime.now()\n",
    "num_samples = 1000\n",
    "timestamps = generate_timestamps(start_time, num_samples)\n",
    "pressure = np.random.uniform(20, 45, num_samples)  # Adjusted pressure range\n",
    "temperature = np.random.uniform(5, 25, num_samples)  # Adjusted temperature range\n",
    "frequency = np.random.uniform(12000, 22000, num_samples)  # Adjusted frequency range\n",
    "amplitude = np.random.uniform(0.8, 1.2, num_samples)  # Adjusted amplitude range\n",
    "coordinates = generate_coordinates(num_samples)\n",
    "\n",
    "# Determine leak condition based on adjusted criteria\n",
    "leak_condition = np.zeros(num_samples)\n",
    "for i in range(num_samples):\n",
    "    if (pressure[i] < 25 or temperature[i] < 10) and (frequency[i] > 20000 or amplitude[i] > 1.0):\n",
    "        leak_condition[i] = 1\n",
    "\n",
    "# Create DataFrame\n",
    "data = {\n",
    "    'Timestamp': timestamps,\n",
    "    'Pressure': pressure,\n",
    "    'Temperature': temperature,\n",
    "    'Frequency': frequency,\n",
    "    'Amplitude': amplitude,\n",
    "    'Latitude': [coord[0] for coord in coordinates],\n",
    "    'Longitude': [coord[1] for coord in coordinates],\n",
    "    'Leak Condition': leak_condition\n",
    "}\n",
    "\n",
    "df = pd.DataFrame(data)\n",
    "\n",
    "# Print DataFrame\n",
    "print(df)"
   ]
  },
  {
   "cell_type": "code",
   "execution_count": 13,
   "id": "0388ac22",
   "metadata": {},
   "outputs": [
    {
     "name": "stdout",
     "output_type": "stream",
     "text": [
      "Number of leak data: 249\n"
     ]
    }
   ],
   "source": [
    "# Count leak data\n",
    "leak_count = (df['Leak Condition'] == 1).sum()\n",
    "\n",
    "print(\"Number of leak data:\", leak_count)\n"
   ]
  },
  {
   "cell_type": "code",
   "execution_count": 15,
   "id": "82a277b3",
   "metadata": {},
   "outputs": [
    {
     "name": "stdout",
     "output_type": "stream",
     "text": [
      "Sensor data saved to Random_leak_data_by_python.xlsx\n"
     ]
    }
   ],
   "source": [
    "# Define the file name\n",
    "excel_file = \"Random_leak_data_by_python.xlsx\"\n",
    "\n",
    "# Save DataFrame to Excel\n",
    "df.to_excel(excel_file, index=False)\n",
    "\n",
    "print(f\"Sensor data saved to {excel_file}\")\n"
   ]
  },
  {
   "cell_type": "code",
   "execution_count": null,
   "id": "738d3021",
   "metadata": {},
   "outputs": [],
   "source": []
  }
 ],
 "metadata": {
  "kernelspec": {
   "display_name": "Python 3 (ipykernel)",
   "language": "python",
   "name": "python3"
  },
  "language_info": {
   "codemirror_mode": {
    "name": "ipython",
    "version": 3
   },
   "file_extension": ".py",
   "mimetype": "text/x-python",
   "name": "python",
   "nbconvert_exporter": "python",
   "pygments_lexer": "ipython3",
   "version": "3.11.4"
  }
 },
 "nbformat": 4,
 "nbformat_minor": 5
}
