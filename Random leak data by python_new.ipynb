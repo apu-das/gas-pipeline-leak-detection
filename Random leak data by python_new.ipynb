{
 "cells": [
  {
   "cell_type": "code",
   "execution_count": 1,
   "id": "a18605bb-5c53-4083-a46f-f4563c265e00",
   "metadata": {},
   "outputs": [],
   "source": [
    "#import necessary libraries\n",
    "import pandas as pd\n",
    "import numpy as np\n",
    "import random\n",
    "from datetime import datetime, timedelta"
   ]
  },
  {
   "cell_type": "code",
   "execution_count": 3,
   "id": "fc41e420-f77a-4281-98b7-b0342394419c",
   "metadata": {},
   "outputs": [
    {
     "name": "stdout",
     "output_type": "stream",
     "text": [
      "                     Timestamp   Pressure  Temperature     Frequency  \\\n",
      "0   2024-09-11 01:07:51.672018  39.929400    10.621079  18424.053113   \n",
      "1   2024-09-11 01:08:51.672018  28.772791    12.583485  19349.045753   \n",
      "2   2024-09-11 01:09:51.672018  40.683585    10.373292  16836.128391   \n",
      "3   2024-09-11 01:10:51.672018  30.132450     7.311777  13157.137992   \n",
      "4   2024-09-11 01:11:51.672018  43.363561    22.374388  13531.753162   \n",
      "..                         ...        ...          ...           ...   \n",
      "995 2024-09-11 17:42:51.672018  25.479435    18.494844  21673.740063   \n",
      "996 2024-09-11 17:43:51.672018  30.029016    13.095871  12977.069379   \n",
      "997 2024-09-11 17:44:51.672018  44.133891    23.904846  12598.293341   \n",
      "998 2024-09-11 17:45:51.672018  43.222337    23.033908  13864.423129   \n",
      "999 2024-09-11 17:46:51.672018  28.267453    22.694317  15276.388585   \n",
      "\n",
      "     Amplitude   Latitude  Longitude  Leak Condition  \n",
      "0     1.027891  22.903695  91.492707             0.0  \n",
      "1     1.062183  23.669735  90.480759             0.0  \n",
      "2     1.198044  22.882568  91.501099             0.0  \n",
      "3     1.147510  23.649962  91.316517             1.0  \n",
      "4     1.021209  23.724924  90.813242             0.0  \n",
      "..         ...        ...        ...             ...  \n",
      "995   0.988789  23.147162  91.343019             0.0  \n",
      "996   1.019598  23.288320  91.377955             0.0  \n",
      "997   1.110568  23.105068  91.567206             0.0  \n",
      "998   0.857753  22.471591  90.717017             0.0  \n",
      "999   0.902169  22.628862  91.487202             0.0  \n",
      "\n",
      "[1000 rows x 8 columns]\n"
     ]
    }
   ],
   "source": [
    "#import necessary libraries\n",
    "import pandas as pd\n",
    "import numpy as np\n",
    "import random\n",
    "from datetime import datetime, timedelta\n",
    "\n",
    "# Function to generate timestamps starting from current time and collecting data every minute\n",
    "def generate_timestamps(start_time, n):\n",
    "    timestamps = []\n",
    "    for i in range(n):\n",
    "        timestamps.append(start_time + timedelta(minutes=i))\n",
    "    return timestamps\n",
    "\n",
    "# Function to generate random latitude and longitude within a specific range\n",
    "def generate_coordinates(n):\n",
    "    min_lat, max_lat = 22.341900, 23.777176    #Latitude of Ctg is 22.341900 and Dhaka is 23.777176\n",
    "    min_lon, max_lon = 90.399452, 91.815536    #Longitude of Dhaka is 90.399452 and Ctg is 91.815536\n",
    "    return [(random.uniform(min_lat, max_lat), random.uniform(min_lon, max_lon)) for i in range(n)]\n",
    "\n",
    "# Generate random sensor data\n",
    "start_time = datetime.now()\n",
    "num_samples = 1000\n",
    "timestamps = generate_timestamps(start_time, num_samples)\n",
    "pressure = np.random.uniform(20, 45, num_samples)  # Adjusted pressure range\n",
    "temperature = np.random.uniform(5, 25, num_samples)  # Adjusted temperature range\n",
    "frequency = np.random.uniform(12000, 22000, num_samples)  # Adjusted frequency range\n",
    "amplitude = np.random.uniform(0.8, 1.2, num_samples)  # Adjusted amplitude range\n",
    "coordinates = generate_coordinates(num_samples)\n",
    "\n",
    "# Determine leak condition based on adjusted criteria\n",
    "leak_condition = np.zeros(num_samples)\n",
    "for i in range(num_samples):\n",
    "    if (pressure[i] < 25 or temperature[i] < 10) and (frequency[i] > 20000 or amplitude[i] > 1.0):\n",
    "        leak_condition[i] = 1\n",
    "\n",
    "# Create DataFrame\n",
    "data = {\n",
    "    'Timestamp': timestamps,\n",
    "    'Pressure': pressure,\n",
    "    'Temperature': temperature,\n",
    "    'Frequency': frequency,\n",
    "    'Amplitude': amplitude,\n",
    "    'Latitude': [coord[0] for coord in coordinates],\n",
    "    'Longitude': [coord[1] for coord in coordinates],\n",
    "    'Leak Condition': leak_condition\n",
    "}\n",
    "\n",
    "df = pd.DataFrame(data)\n",
    "\n",
    "# Print DataFrame\n",
    "print(df)"
   ]
  },
  {
   "cell_type": "code",
   "execution_count": 5,
   "id": "f90345ee-10d1-43b7-879d-5505f5fab43b",
   "metadata": {},
   "outputs": [
    {
     "name": "stdout",
     "output_type": "stream",
     "text": [
      "Number of leak data: 258\n"
     ]
    }
   ],
   "source": [
    "# Count leak data\n",
    "leak_count = (df['Leak Condition'] == 1).sum()\n",
    "\n",
    "print(\"Number of leak data:\", leak_count)\n"
   ]
  },
  {
   "cell_type": "code",
   "execution_count": 7,
   "id": "0b24f53c-c5c5-408e-b6c2-33e5877a0130",
   "metadata": {},
   "outputs": [
    {
     "name": "stdout",
     "output_type": "stream",
     "text": [
      "Sensor data saved to Random_leak_data_by_python_new.xlsx\n"
     ]
    }
   ],
   "source": [
    "# Define the file name\n",
    "excel_file = \"Random_leak_data_by_python_new.xlsx\"\n",
    "\n",
    "# Save DataFrame to Excel\n",
    "df.to_excel(excel_file, index=False)\n",
    "\n",
    "print(f\"Sensor data saved to {excel_file}\")\n"
   ]
  },
  {
   "cell_type": "code",
   "execution_count": null,
   "id": "f0859adc-94c1-4a34-937a-86be3d2c8457",
   "metadata": {},
   "outputs": [],
   "source": []
  }
 ],
 "metadata": {
  "kernelspec": {
   "display_name": "Python 3 (ipykernel)",
   "language": "python",
   "name": "python3"
  },
  "language_info": {
   "codemirror_mode": {
    "name": "ipython",
    "version": 3
   },
   "file_extension": ".py",
   "mimetype": "text/x-python",
   "name": "python",
   "nbconvert_exporter": "python",
   "pygments_lexer": "ipython3",
   "version": "3.12.4"
  }
 },
 "nbformat": 4,
 "nbformat_minor": 5
}
